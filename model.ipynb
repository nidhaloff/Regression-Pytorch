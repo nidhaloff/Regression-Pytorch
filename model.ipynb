{
  "nbformat": 4,
  "nbformat_minor": 0,
  "metadata": {
    "colab": {
      "name": "model.ipynb",
      "provenance": [],
      "include_colab_link": true
    },
    "kernelspec": {
      "name": "python3",
      "display_name": "Python 3"
    },
    "accelerator": "GPU"
  },
  "cells": [
    {
      "cell_type": "markdown",
      "metadata": {
        "id": "view-in-github",
        "colab_type": "text"
      },
      "source": [
        "<a href=\"https://colab.research.google.com/github/nidhaloff/Regression-Pytorch/blob/master/model.ipynb\" target=\"_parent\"><img src=\"https://colab.research.google.com/assets/colab-badge.svg\" alt=\"Open In Colab\"/></a>"
      ]
    },
    {
      "cell_type": "code",
      "metadata": {
        "id": "A8eVurEoeJj9",
        "colab_type": "code",
        "colab": {
          "base_uri": "https://localhost:8080/",
          "height": 34
        },
        "outputId": "8903b653-ff54-4a2f-b31a-e6028ae187bc"
      },
      "source": [
        "import keras\n",
        "from keras import backend as K\n",
        "import tensorflow as tf\n",
        "import numpy as np\n",
        "import pandas as pd\n",
        "import matplotlib.pyplot as plt\n",
        "import seaborn as sns\n",
        "import torch\n",
        "import torch.nn as nn\n",
        "import torch.optim as optim\n",
        "import torch.nn.functional as F\n",
        "from torch.utils.data import TensorDataset, DataLoader\n",
        "from sklearn.metrics import r2_score\n",
        "from sklearn.datasets import make_regression\n",
        "from sklearn.model_selection import train_test_split\n",
        "\n",
        "%matplotlib inline\n",
        "\n",
        "# run keras model on google GPU\n",
        "sess = tf.Session(config=tf.ConfigProto(log_device_placement=True))\n",
        "K.tensorflow_backend._get_available_gpus()"
      ],
      "execution_count": 242,
      "outputs": [
        {
          "output_type": "execute_result",
          "data": {
            "text/plain": [
              "['/job:localhost/replica:0/task:0/device:GPU:0']"
            ]
          },
          "metadata": {
            "tags": []
          },
          "execution_count": 242
        }
      ]
    },
    {
      "cell_type": "code",
      "metadata": {
        "id": "Iq3W8xLUeKER",
        "colab_type": "code",
        "colab": {
          "base_uri": "https://localhost:8080/",
          "height": 34
        },
        "outputId": "e57e99fe-cb20-4ac6-9e4d-aa9a36838b04"
      },
      "source": [
        "dataset = make_regression(n_samples=1000, n_features=1, noise=5, random_state=42)\n",
        "X, y = dataset\n",
        "X.shape, y.shape"
      ],
      "execution_count": 243,
      "outputs": [
        {
          "output_type": "execute_result",
          "data": {
            "text/plain": [
              "((1000, 1), (1000,))"
            ]
          },
          "metadata": {
            "tags": []
          },
          "execution_count": 243
        }
      ]
    },
    {
      "cell_type": "code",
      "metadata": {
        "id": "h-guAC6Se2v8",
        "colab_type": "code",
        "colab": {
          "base_uri": "https://localhost:8080/",
          "height": 34
        },
        "outputId": "99553ac7-3e60-4410-ee4a-d3b36a1f7faf"
      },
      "source": [
        "type(X), type(y)"
      ],
      "execution_count": 244,
      "outputs": [
        {
          "output_type": "execute_result",
          "data": {
            "text/plain": [
              "(numpy.ndarray, numpy.ndarray)"
            ]
          },
          "metadata": {
            "tags": []
          },
          "execution_count": 244
        }
      ]
    },
    {
      "cell_type": "code",
      "metadata": {
        "id": "HxNaHD9le7eF",
        "colab_type": "code",
        "colab": {
          "base_uri": "https://localhost:8080/",
          "height": 134
        },
        "outputId": "b0e3b760-4e84-4b92-b65c-eb409ed96bd3"
      },
      "source": [
        "pip install skorch"
      ],
      "execution_count": 245,
      "outputs": [
        {
          "output_type": "stream",
          "text": [
            "Requirement already satisfied: skorch in /usr/local/lib/python3.6/dist-packages (0.6.0)\n",
            "Requirement already satisfied: numpy>=1.13.3 in /usr/local/lib/python3.6/dist-packages (from skorch) (1.16.5)\n",
            "Requirement already satisfied: tabulate>=0.7.7 in /usr/local/lib/python3.6/dist-packages (from skorch) (0.8.5)\n",
            "Requirement already satisfied: scikit-learn>=0.19.1 in /usr/local/lib/python3.6/dist-packages (from skorch) (0.21.3)\n",
            "Requirement already satisfied: tqdm>=4.14.0 in /usr/local/lib/python3.6/dist-packages (from skorch) (4.28.1)\n",
            "Requirement already satisfied: scipy>=1.1.0 in /usr/local/lib/python3.6/dist-packages (from skorch) (1.3.1)\n",
            "Requirement already satisfied: joblib>=0.11 in /usr/local/lib/python3.6/dist-packages (from scikit-learn>=0.19.1->skorch) (0.13.2)\n"
          ],
          "name": "stdout"
        }
      ]
    },
    {
      "cell_type": "code",
      "metadata": {
        "id": "sjtxblbUfKpR",
        "colab_type": "code",
        "colab": {
          "base_uri": "https://localhost:8080/",
          "height": 50
        },
        "outputId": "dd7163f4-c76f-4f2a-9cf4-2eb259dc714a"
      },
      "source": [
        "# implementation only using pytorch\n",
        "\n",
        "y = y.reshape(-1, 1)\n",
        "print(X.shape, y.shape)\n",
        "X_train, X_test, y_train, y_test = train_test_split(X, y, random_state=42, test_size=0.2)\n",
        "X_train_torch = torch.from_numpy(X_train.astype(np.float32))\n",
        "y_train_torch = torch.from_numpy(y_train.astype(np.float32))\n",
        "X_test_torch = torch.from_numpy(X_test.astype(np.float32))\n",
        "y_test_torch = torch.from_numpy(y_test.astype(np.float32))\n",
        "print(X_train_torch.shape, y_train_torch.shape)\n",
        "\n",
        "\n",
        "trainset = TensorDataset(X_train_torch, y_train_torch)\n",
        "testset = TensorDataset(X_test_torch, y_test_torch)\n",
        "\n",
        "train_loader = DataLoader(trainset, batch_size=64, shuffle=True)\n",
        "test_loader = DataLoader(testset, batch_size=64, shuffle=False)\n",
        "\n",
        "\n",
        "class Regressor(nn.Module):\n",
        "    def __init__(self, n_features, n_out):\n",
        "        super().__init__()\n",
        "        self.fc1 = nn.Linear(n_features, 100)\n",
        "        self.fc2 = nn.Linear(100, n_out)\n",
        "#         self.fc3 = nn.Linear(600, 300)\n",
        "#         self.fc4 = nn.Linear(300, n_out)\n",
        "        \n",
        "    def forward(self, x):\n",
        "        out = self.fc1(x)\n",
        "#         out = F.tanh(self.fc2(out))\n",
        "#         out = F.sigmoid(self.fc3(out))\n",
        "        out = self.fc2(out)\n",
        "        return out\n",
        "    \n",
        "\n",
        "# model = Regressor(X.shape[1], 1)\n",
        "criterion = nn.MSELoss()\n",
        "optimizer = optim.SGD(model.parameters(), lr=1e-4, momentum=0.9)\n",
        "\n",
        "def training_func(model, criterion, optimizer):\n",
        "    def train_step(sample, target):\n",
        "        model.train()\n",
        "        optimizer.zero_grad()\n",
        "        out = model(sample)\n",
        "        loss = criterion(out, target)\n",
        "        loss.backward()\n",
        "        optimizer.step()\n",
        "        return loss.item()\n",
        "    return train_step\n",
        "\n",
        "def fit(epochs=10):\n",
        "    train_losses, test_losses, accuracy_list = ([] for _ in range(3))\n",
        "    train = training_func(model=model, criterion=criterion, optimizer=optimizer)\n",
        "    for e in range(epochs):\n",
        "        for x, y in train_loader:\n",
        "            loss_val = train(x, y)\n",
        "            train_losses.append(loss_val)\n",
        "            \n",
        "        else:\n",
        "            with torch.no_grad():\n",
        "                model.eval()\n",
        "                for x_test, y_test in test_loader:\n",
        "                    pred = model(x_test)\n",
        "                    loss = criterion(pred, y_test)\n",
        "                    test_losses.append(loss.item())\n",
        "                    accuracy = r2_score(y_test.numpy(), pred.numpy())\n",
        "                    accuracy_list.append(accuracy)\n",
        "                    \n",
        "        print(f\"Epoch: {e} => average training loss= {sum(train_losses)/ len(train_losses)} average test losses= {sum(test_losses)/ len(test_losses)} and accuracy= {sum(accuracy_list)/ len(accuracy_list)}\")\n",
        "        \n",
        "    return train_losses, test_losses, accuracy_list\n",
        "                    \n",
        "\n",
        "def plot_results(train_losses, test_losses, accs):\n",
        "    plt.plot(train_losses, color=\"b\")\n",
        "    plt.title(\"train losses over time\")\n",
        "    plt.show()\n",
        "    plt.plot(test_losses, color= \"b\")\n",
        "    plt.title(\"test losses over time\")\n",
        "    plt.show()\n",
        "    \n",
        "    plt.plot(accs, color= \"b\")\n",
        "    plt.title(\"Accuracy over time\")\n",
        "    plt.show()\n",
        "    \n",
        "\n",
        "# train_losses, test_losses, accs = fit(10)\n",
        "# plot_results(train_losses, test_losses, accs)\n",
        "# print(\"final train loss value = \", train_losses[-1])\n",
        "# print(\"final test loss value = \", test_losses[-1])\n",
        "# print(\"final accuracy of the model => \", accs[-1])\n"
      ],
      "execution_count": 246,
      "outputs": [
        {
          "output_type": "stream",
          "text": [
            "(1000, 1) (1000, 1)\n",
            "torch.Size([800, 1]) torch.Size([800, 1])\n"
          ],
          "name": "stdout"
        }
      ]
    },
    {
      "cell_type": "code",
      "metadata": {
        "id": "rnhV1OabKagf",
        "colab_type": "code",
        "colab": {}
      },
      "source": [
        "import skorch\n",
        "from skorch import NeuralNet"
      ],
      "execution_count": 0,
      "outputs": []
    },
    {
      "cell_type": "code",
      "metadata": {
        "id": "qS1qF47HKbCE",
        "colab_type": "code",
        "colab": {}
      },
      "source": [
        "net = NeuralNet(module=model, criterion=nn.MSELoss, optimizer=optim.SGD, \n",
        "               lr=1e-3, max_epochs=20, batch_size=64)"
      ],
      "execution_count": 0,
      "outputs": []
    },
    {
      "cell_type": "code",
      "metadata": {
        "id": "8QYbcs2gKiZc",
        "colab_type": "code",
        "colab": {
          "base_uri": "https://localhost:8080/",
          "height": 487
        },
        "outputId": "66cc4a25-1b04-475f-e295-3f438f56492a"
      },
      "source": [
        "net.fit(X_train_torch, y_train_torch)"
      ],
      "execution_count": 267,
      "outputs": [
        {
          "output_type": "stream",
          "text": [
            "  epoch    train_loss    valid_loss     dur\n",
            "-------  ------------  ------------  ------\n",
            "      1       \u001b[36m24.3828\u001b[0m       \u001b[32m22.6195\u001b[0m  0.0222\n",
            "      2       \u001b[36m24.3784\u001b[0m       22.6554  0.0151\n",
            "      3       \u001b[36m24.3775\u001b[0m       22.6718  0.0172\n",
            "      4       \u001b[36m24.3773\u001b[0m       22.6791  0.0170\n",
            "      5       \u001b[36m24.3772\u001b[0m       22.6823  0.0180\n",
            "      6       \u001b[36m24.3772\u001b[0m       22.6838  0.0173\n",
            "      7       \u001b[36m24.3772\u001b[0m       22.6844  0.0174\n",
            "      8       \u001b[36m24.3772\u001b[0m       22.6847  0.0174\n",
            "      9       \u001b[36m24.3772\u001b[0m       22.6848  0.0173\n",
            "     10       \u001b[36m24.3772\u001b[0m       22.6849  0.0199\n",
            "     11       \u001b[36m24.3772\u001b[0m       22.6849  0.0168\n",
            "     12       \u001b[36m24.3772\u001b[0m       22.6849  0.0172\n",
            "     13       \u001b[36m24.3772\u001b[0m       22.6849  0.0169\n",
            "     14       \u001b[36m24.3772\u001b[0m       22.6849  0.0170\n",
            "     15       \u001b[36m24.3771\u001b[0m       22.6849  0.0193\n",
            "     16       \u001b[36m24.3771\u001b[0m       22.6849  0.0169\n",
            "     17       \u001b[36m24.3771\u001b[0m       22.6849  0.0162\n",
            "     18       \u001b[36m24.3771\u001b[0m       22.6849  0.0180\n",
            "     19       \u001b[36m24.3771\u001b[0m       22.6849  0.0168\n",
            "     20       \u001b[36m24.3771\u001b[0m       22.6849  0.0181\n"
          ],
          "name": "stdout"
        },
        {
          "output_type": "execute_result",
          "data": {
            "text/plain": [
              "<class 'skorch.net.NeuralNet'>[initialized](\n",
              "  module_=Regressor(\n",
              "    (fc1): Linear(in_features=1, out_features=100, bias=True)\n",
              "    (fc2): Linear(in_features=100, out_features=1, bias=True)\n",
              "  ),\n",
              ")"
            ]
          },
          "metadata": {
            "tags": []
          },
          "execution_count": 267
        }
      ]
    },
    {
      "cell_type": "code",
      "metadata": {
        "id": "qdDAZnw_Kofz",
        "colab_type": "code",
        "colab": {
          "base_uri": "https://localhost:8080/",
          "height": 286
        },
        "outputId": "6f36d523-065d-491f-b00a-9014d3c1df2a"
      },
      "source": [
        "with torch.no_grad():\n",
        "    net_preds = net.predict(X_test_torch)\n",
        "    score = r2_score(y_test_torch.detach().numpy(), net_preds)\n",
        "    print(score)\n",
        "    plt.scatter(X_test_torch.detach().numpy(), y_test_torch.detach().numpy(), c=\"r\", marker=\"o\")\n",
        "    plt.plot(X_test_torch.detach().numpy(), net_preds, color=\"g\")"
      ],
      "execution_count": 271,
      "outputs": [
        {
          "output_type": "stream",
          "text": [
            "0.9134428205340318\n"
          ],
          "name": "stdout"
        },
        {
          "output_type": "display_data",
          "data": {
            "image/png": "[encoded data removed]",
            "text/plain": [
              "<Figure size 432x288 with 1 Axes>"
            ]
          },
          "metadata": {
            "tags": []
          }
        }
      ]
    },
    {
      "cell_type": "code",
      "metadata": {
        "id": "PLGOOOlINRA8",
        "colab_type": "code",
        "colab": {}
      },
      "source": [
        ""
      ],
      "execution_count": 0,
      "outputs": []
    }
  ]
}