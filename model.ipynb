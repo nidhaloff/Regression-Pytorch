{
  "nbformat": 4,
  "nbformat_minor": 0,
  "metadata": {
    "colab": {
      "name": "model.ipynb",
      "provenance": [],
      "include_colab_link": true
    },
    "kernelspec": {
      "name": "python3",
      "display_name": "Python 3"
    },
    "accelerator": "GPU"
  },
  "cells": [
    {
      "cell_type": "markdown",
      "metadata": {
        "id": "view-in-github",
        "colab_type": "text"
      },
      "source": [
        "<a href=\"https://colab.research.google.com/github/nidhaloff/Regression-Pytorch/blob/master/model.ipynb\" target=\"_parent\"><img src=\"https://colab.research.google.com/assets/colab-badge.svg\" alt=\"Open In Colab\"/></a>"
      ]
    },
    {
      "cell_type": "code",
      "metadata": {
        "id": "A8eVurEoeJj9",
        "colab_type": "code",
        "colab": {
          "base_uri": "https://localhost:8080/",
          "height": 34
        },
        "outputId": "d2550fbb-a7c9-4724-a9fc-b58c503ceee5"
      },
      "source": [
        "import keras\n",
        "from keras import backend as K\n",
        "import tensorflow as tf\n",
        "import numpy as np\n",
        "import pandas as pd\n",
        "import matplotlib.pyplot as plt\n",
        "import seaborn as sns\n",
        "import torch\n",
        "import torch.nn as nn\n",
        "import torch.optim as optim\n",
        "import torch.nn.functional as F\n",
        "from torch.utils.data import TensorDataset, DataLoader\n",
        "from sklearn.metrics import r2_score\n",
        "from sklearn.datasets import make_regression\n",
        "from sklearn.model_selection import train_test_split\n",
        "\n",
        "%matplotlib inline\n",
        "\n",
        "# run keras model on google GPU\n",
        "sess = tf.Session(config=tf.ConfigProto(log_device_placement=True))\n",
        "K.tensorflow_backend._get_available_gpus()"
      ],
      "execution_count": 235,
      "outputs": [
        {
          "output_type": "execute_result",
          "data": {
            "text/plain": [
              "['/job:localhost/replica:0/task:0/device:GPU:0']"
            ]
          },
          "metadata": {
            "tags": []
          },
          "execution_count": 235
        }
      ]
    },
    {
      "cell_type": "code",
      "metadata": {
        "id": "Iq3W8xLUeKER",
        "colab_type": "code",
        "colab": {
          "base_uri": "https://localhost:8080/",
          "height": 34
        },
        "outputId": "ee460bc6-19de-4629-f437-a02ed316fd5f"
      },
      "source": [
        "dataset = make_regression(n_samples=1000, n_features=1, noise=5, random_state=42)\n",
        "X, y = dataset\n",
        "X.shape, y.shape"
      ],
      "execution_count": 236,
      "outputs": [
        {
          "output_type": "execute_result",
          "data": {
            "text/plain": [
              "((1000, 1), (1000,))"
            ]
          },
          "metadata": {
            "tags": []
          },
          "execution_count": 236
        }
      ]
    },
    {
      "cell_type": "code",
      "metadata": {
        "id": "h-guAC6Se2v8",
        "colab_type": "code",
        "colab": {
          "base_uri": "https://localhost:8080/",
          "height": 34
        },
        "outputId": "e892c704-6a0d-4c5c-f9d7-9dc1f87bf68e"
      },
      "source": [
        "type(X), type(y)"
      ],
      "execution_count": 237,
      "outputs": [
        {
          "output_type": "execute_result",
          "data": {
            "text/plain": [
              "(numpy.ndarray, numpy.ndarray)"
            ]
          },
          "metadata": {
            "tags": []
          },
          "execution_count": 237
        }
      ]
    },
    {
      "cell_type": "code",
      "metadata": {
        "id": "HxNaHD9le7eF",
        "colab_type": "code",
        "colab": {
          "base_uri": "https://localhost:8080/",
          "height": 134
        },
        "outputId": "a99c78f2-8943-44a1-c3f9-a2e0e939cb70"
      },
      "source": [
        "pip install skorch"
      ],
      "execution_count": 238,
      "outputs": [
        {
          "output_type": "stream",
          "text": [
            "Requirement already satisfied: skorch in /usr/local/lib/python3.6/dist-packages (0.6.0)\n",
            "Requirement already satisfied: scikit-learn>=0.19.1 in /usr/local/lib/python3.6/dist-packages (from skorch) (0.21.3)\n",
            "Requirement already satisfied: scipy>=1.1.0 in /usr/local/lib/python3.6/dist-packages (from skorch) (1.3.1)\n",
            "Requirement already satisfied: numpy>=1.13.3 in /usr/local/lib/python3.6/dist-packages (from skorch) (1.16.5)\n",
            "Requirement already satisfied: tqdm>=4.14.0 in /usr/local/lib/python3.6/dist-packages (from skorch) (4.28.1)\n",
            "Requirement already satisfied: tabulate>=0.7.7 in /usr/local/lib/python3.6/dist-packages (from skorch) (0.8.5)\n",
            "Requirement already satisfied: joblib>=0.11 in /usr/local/lib/python3.6/dist-packages (from scikit-learn>=0.19.1->skorch) (0.13.2)\n"
          ],
          "name": "stdout"
        }
      ]
    },
    {
      "cell_type": "code",
      "metadata": {
        "id": "mU6F5ntCfIQ5",
        "colab_type": "code",
        "colab": {}
      },
      "source": [
        "import skorch\n",
        "from skorch import NeuralNet"
      ],
      "execution_count": 0,
      "outputs": []
    },
    {
      "cell_type": "code",
      "metadata": {
        "id": "sjtxblbUfKpR",
        "colab_type": "code",
        "colab": {
          "base_uri": "https://localhost:8080/",
          "height": 1000
        },
        "outputId": "c3aec3a8-7cbb-4d44-8e4c-5897200a16c6"
      },
      "source": [
        "# implementation only using pytorch\n",
        "\n",
        "y = y.reshape(-1, 1)\n",
        "print(X.shape, y.shape)\n",
        "X_train, X_test, y_train, y_test = train_test_split(X, y, random_state=42, test_size=0.2)\n",
        "X_train_torch = torch.from_numpy(X_train.astype(np.float32))\n",
        "y_train_torch = torch.from_numpy(y_train.astype(np.float32))\n",
        "X_test_torch = torch.from_numpy(X_test.astype(np.float32))\n",
        "y_test_torch = torch.from_numpy(y_test.astype(np.float32))\n",
        "print(X_train_torch.shape, y_train_torch.shape)\n",
        "\n",
        "\n",
        "trainset = TensorDataset(X_train_torch, y_train_torch)\n",
        "testset = TensorDataset(X_test_torch, y_test_torch)\n",
        "\n",
        "train_loader = DataLoader(trainset, batch_size=64, shuffle=True)\n",
        "test_loader = DataLoader(testset, batch_size=64, shuffle=False)\n",
        "\n",
        "\n",
        "class Regressor(nn.Module):\n",
        "    def __init__(self, n_features, n_out):\n",
        "        super().__init__()\n",
        "        self.fc1 = nn.Linear(n_features, 100)\n",
        "        self.fc2 = nn.Linear(100, n_out)\n",
        "#         self.fc3 = nn.Linear(600, 300)\n",
        "#         self.fc4 = nn.Linear(300, n_out)\n",
        "        \n",
        "    def forward(self, x):\n",
        "        out = self.fc1(x)\n",
        "#         out = F.tanh(self.fc2(out))\n",
        "#         out = F.sigmoid(self.fc3(out))\n",
        "        out = self.fc2(out)\n",
        "        return out\n",
        "    \n",
        "\n",
        "model = Regressor(X.shape[1], 1)\n",
        "criterion = nn.MSELoss()\n",
        "optimizer = optim.SGD(model.parameters(), lr=1e-4, momentum=0.9)\n",
        "\n",
        "def training_func(model, criterion, optimizer):\n",
        "    def train_step(sample, target):\n",
        "        model.train()\n",
        "        optimizer.zero_grad()\n",
        "        out = model(sample)\n",
        "        loss = criterion(out, target)\n",
        "        loss.backward()\n",
        "        optimizer.step()\n",
        "        return loss.item()\n",
        "    return train_step\n",
        "\n",
        "def fit(epochs=10):\n",
        "    train_losses, test_losses, accuracy_list = ([] for _ in range(3))\n",
        "    train = training_func(model=model, criterion=criterion, optimizer=optimizer)\n",
        "    for e in range(epochs):\n",
        "        for x, y in train_loader:\n",
        "            loss_val = train(x, y)\n",
        "            train_losses.append(loss_val)\n",
        "            \n",
        "        else:\n",
        "            with torch.no_grad():\n",
        "                model.eval()\n",
        "                for x_test, y_test in test_loader:\n",
        "                    pred = model(x_test)\n",
        "                    loss = criterion(pred, y_test)\n",
        "                    test_losses.append(loss.item())\n",
        "                    accuracy = r2_score(y_test.numpy(), pred.numpy())\n",
        "                    accuracy_list.append(accuracy)\n",
        "                    \n",
        "        print(f\"Epoch: {e} => average training loss= {sum(train_losses)/ len(train_losses)} average test losses= {sum(test_losses)/ len(test_losses)} and accuracy= {sum(accuracy_list)/ len(accuracy_list)}\")\n",
        "        \n",
        "    return train_losses, test_losses, accuracy_list\n",
        "                    \n",
        "\n",
        "def plot_results(train_losses, test_losses, accs):\n",
        "    plt.plot(train_losses, color=\"b\")\n",
        "    plt.title(\"train losses over time\")\n",
        "    plt.show()\n",
        "    plt.plot(test_losses, color= \"b\")\n",
        "    plt.title(\"test losses over time\")\n",
        "    plt.show()\n",
        "    \n",
        "    plt.plot(accs, color= \"b\")\n",
        "    plt.title(\"Accuracy over time\")\n",
        "    plt.show()\n",
        "    \n",
        "\n",
        "train_losses, test_losses, accs = fit(10)\n",
        "plot_results(train_losses, test_losses, accs)\n",
        "print(\"final train loss value = \", train_losses[-1])\n",
        "print(\"final test loss value = \", test_losses[-1])\n",
        "print(\"final accuracy of the model => \", accs[-1])\n"
      ],
      "execution_count": 240,
      "outputs": [
        {
          "output_type": "stream",
          "text": [
            "(1000, 1) (1000, 1)\n",
            "torch.Size([800, 1]) torch.Size([800, 1])\n",
            "Epoch: 0 => average training loss= 238.1662879356971 average test losses= 131.1465187072754 and accuracy= 0.5286490733955806\n",
            "Epoch: 1 => average training loss= 159.09632462721603 average test losses= 82.36730718612671 and accuracy= 0.7028009592676103\n",
            "Epoch: 2 => average training loss= 114.90947874998434 average test losses= 64.58732398351033 and accuracy= 0.7614411792643377\n",
            "Epoch: 3 => average training loss= 92.57847929000854 average test losses= 56.01393926143646 and accuracy= 0.7888784165824498\n",
            "Epoch: 4 => average training loss= 79.07633452782264 average test losses= 50.40033197402954 and accuracy= 0.8076970737858746\n",
            "Epoch: 5 => average training loss= 69.87528214087853 average test losses= 46.503366549809776 and accuracy= 0.8212350879792369\n",
            "Epoch: 6 => average training loss= 63.32293537684849 average test losses= 43.70440462657383 and accuracy= 0.8310076497734957\n",
            "Epoch: 7 => average training loss= 58.42027108485882 average test losses= 41.61267948150635 and accuracy= 0.8382831969051489\n",
            "Epoch: 8 => average training loss= 54.55350310170753 average test losses= 40.00094668070475 and accuracy= 0.8438216448090397\n",
            "Epoch: 9 => average training loss= 51.48076189481295 average test losses= 38.70452566146851 and accuracy= 0.8482874620642906\n"
          ],
          "name": "stdout"
        },
        {
          "output_type": "display_data",
          "data": {
            "image/png": "[encoded data removed]",
            "text/plain": [
              "<Figure size 432x288 with 1 Axes>"
            ]
          },
          "metadata": {
            "tags": []
          }
        },
        {
          "output_type": "display_data",
          "data": {
            "image/png": "[encoded data removed]",
            "text/plain": [
              "<Figure size 432x288 with 1 Axes>"
            ]
          },
          "metadata": {
            "tags": []
          }
        },
        {
          "output_type": "display_data",
          "data": {
            "image/png": "[encoded data removed]",
            "text/plain": [
              "<Figure size 432x288 with 1 Axes>"
            ]
          },
          "metadata": {
            "tags": []
          }
        },
        {
          "output_type": "stream",
          "text": [
            "final train loss value =  21.676368713378906\n",
            "final test loss value =  27.449270248413086\n",
            "final accuracy of the model =>  0.8087522191800498\n"
          ],
          "name": "stdout"
        }
      ]
    },
    {
      "cell_type": "code",
      "metadata": {
        "id": "d2RweRJkDxIj",
        "colab_type": "code",
        "colab": {
          "base_uri": "https://localhost:8080/",
          "height": 286
        },
        "outputId": "dce4e2b2-848f-445e-b993-e6488dfe50ac"
      },
      "source": [
        "# see the results\n",
        "preds = model(X_test_torch)\n",
        "plt.scatter(X_test, y_test, c=\"r\", marker=\"+\")\n",
        "plt.plot(X_test, preds.detach().numpy(), color=\"g\")"
      ],
      "execution_count": 241,
      "outputs": [
        {
          "output_type": "execute_result",
          "data": {
            "text/plain": [
              "[<matplotlib.lines.Line2D at 0x7fb6317fe208>]"
            ]
          },
          "metadata": {
            "tags": []
          },
          "execution_count": 241
        },
        {
          "output_type": "display_data",
          "data": {
            "image/png": "[encoded data removed]",
            "text/plain": [
              "<Figure size 432x288 with 1 Axes>"
            ]
          },
          "metadata": {
            "tags": []
          }
        }
      ]
    }
  ]
}